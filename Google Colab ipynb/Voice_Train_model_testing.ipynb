{
  "nbformat": 4,
  "nbformat_minor": 0,
  "metadata": {
    "kernelspec": {
      "name": "python3",
      "display_name": "Python 3"
    },
    "language_info": {
      "codemirror_mode": {
        "name": "ipython",
        "version": 3
      },
      "file_extension": ".py",
      "mimetype": "text/x-python",
      "name": "python",
      "nbconvert_exporter": "python",
      "pygments_lexer": "ipython3",
      "version": "3.7.4"
    },
    "colab": {
      "name": "Voice_Train_model_testing.ipynb",
      "provenance": [],
      "collapsed_sections": []
    },
    "accelerator": "GPU"
  },
  "cells": [
    {
      "cell_type": "code",
      "metadata": {
        "id": "3dWCkBOB2tFD",
        "colab_type": "code",
        "outputId": "a4f55866-72b9-461e-dd3d-a865b3041135",
        "colab": {
          "base_uri": "https://localhost:8080/",
          "height": 218
        }
      },
      "source": [
        "!pip install wandb -q"
      ],
      "execution_count": 0,
      "outputs": [
        {
          "output_type": "stream",
          "text": [
            "\u001b[?25l\r\u001b[K     |▎                               | 10kB 35.8MB/s eta 0:00:01\r\u001b[K     |▌                               | 20kB 6.6MB/s eta 0:00:01\r\u001b[K     |▊                               | 30kB 7.6MB/s eta 0:00:01\r\u001b[K     |█                               | 40kB 5.9MB/s eta 0:00:01\r\u001b[K     |█▏                              | 51kB 7.1MB/s eta 0:00:01\r\u001b[K     |█▍                              | 61kB 8.5MB/s eta 0:00:01\r\u001b[K     |█▋                              | 71kB 8.2MB/s eta 0:00:01\r\u001b[K     |██                              | 81kB 8.0MB/s eta 0:00:01\r\u001b[K     |██▏                             | 92kB 8.9MB/s eta 0:00:01\r\u001b[K     |██▍                             | 102kB 9.2MB/s eta 0:00:01\r\u001b[K     |██▋                             | 112kB 9.2MB/s eta 0:00:01\r\u001b[K     |██▉                             | 122kB 9.2MB/s eta 0:00:01\r\u001b[K     |███                             | 133kB 9.2MB/s eta 0:00:01\r\u001b[K     |███▎                            | 143kB 9.2MB/s eta 0:00:01\r\u001b[K     |███▋                            | 153kB 9.2MB/s eta 0:00:01\r\u001b[K     |███▉                            | 163kB 9.2MB/s eta 0:00:01\r\u001b[K     |████                            | 174kB 9.2MB/s eta 0:00:01\r\u001b[K     |████▎                           | 184kB 9.2MB/s eta 0:00:01\r\u001b[K     |████▌                           | 194kB 9.2MB/s eta 0:00:01\r\u001b[K     |████▊                           | 204kB 9.2MB/s eta 0:00:01\r\u001b[K     |█████                           | 215kB 9.2MB/s eta 0:00:01\r\u001b[K     |█████▎                          | 225kB 9.2MB/s eta 0:00:01\r\u001b[K     |█████▌                          | 235kB 9.2MB/s eta 0:00:01\r\u001b[K     |█████▊                          | 245kB 9.2MB/s eta 0:00:01\r\u001b[K     |██████                          | 256kB 9.2MB/s eta 0:00:01\r\u001b[K     |██████▏                         | 266kB 9.2MB/s eta 0:00:01\r\u001b[K     |██████▍                         | 276kB 9.2MB/s eta 0:00:01\r\u001b[K     |██████▋                         | 286kB 9.2MB/s eta 0:00:01\r\u001b[K     |███████                         | 296kB 9.2MB/s eta 0:00:01\r\u001b[K     |███████▏                        | 307kB 9.2MB/s eta 0:00:01\r\u001b[K     |███████▍                        | 317kB 9.2MB/s eta 0:00:01\r\u001b[K     |███████▋                        | 327kB 9.2MB/s eta 0:00:01\r\u001b[K     |███████▉                        | 337kB 9.2MB/s eta 0:00:01\r\u001b[K     |████████                        | 348kB 9.2MB/s eta 0:00:01\r\u001b[K     |████████▎                       | 358kB 9.2MB/s eta 0:00:01\r\u001b[K     |████████▋                       | 368kB 9.2MB/s eta 0:00:01\r\u001b[K     |████████▉                       | 378kB 9.2MB/s eta 0:00:01\r\u001b[K     |█████████                       | 389kB 9.2MB/s eta 0:00:01\r\u001b[K     |█████████▎                      | 399kB 9.2MB/s eta 0:00:01\r\u001b[K     |█████████▌                      | 409kB 9.2MB/s eta 0:00:01\r\u001b[K     |█████████▊                      | 419kB 9.2MB/s eta 0:00:01\r\u001b[K     |██████████                      | 430kB 9.2MB/s eta 0:00:01\r\u001b[K     |██████████▏                     | 440kB 9.2MB/s eta 0:00:01\r\u001b[K     |██████████▌                     | 450kB 9.2MB/s eta 0:00:01\r\u001b[K     |██████████▊                     | 460kB 9.2MB/s eta 0:00:01\r\u001b[K     |███████████                     | 471kB 9.2MB/s eta 0:00:01\r\u001b[K     |███████████▏                    | 481kB 9.2MB/s eta 0:00:01\r\u001b[K     |███████████▍                    | 491kB 9.2MB/s eta 0:00:01\r\u001b[K     |███████████▋                    | 501kB 9.2MB/s eta 0:00:01\r\u001b[K     |███████████▉                    | 512kB 9.2MB/s eta 0:00:01\r\u001b[K     |████████████▏                   | 522kB 9.2MB/s eta 0:00:01\r\u001b[K     |████████████▍                   | 532kB 9.2MB/s eta 0:00:01\r\u001b[K     |████████████▋                   | 542kB 9.2MB/s eta 0:00:01\r\u001b[K     |████████████▉                   | 552kB 9.2MB/s eta 0:00:01\r\u001b[K     |█████████████                   | 563kB 9.2MB/s eta 0:00:01\r\u001b[K     |█████████████▎                  | 573kB 9.2MB/s eta 0:00:01\r\u001b[K     |█████████████▌                  | 583kB 9.2MB/s eta 0:00:01\r\u001b[K     |█████████████▉                  | 593kB 9.2MB/s eta 0:00:01\r\u001b[K     |██████████████                  | 604kB 9.2MB/s eta 0:00:01\r\u001b[K     |██████████████▎                 | 614kB 9.2MB/s eta 0:00:01\r\u001b[K     |██████████████▌                 | 624kB 9.2MB/s eta 0:00:01\r\u001b[K     |██████████████▊                 | 634kB 9.2MB/s eta 0:00:01\r\u001b[K     |███████████████                 | 645kB 9.2MB/s eta 0:00:01\r\u001b[K     |███████████████▏                | 655kB 9.2MB/s eta 0:00:01\r\u001b[K     |███████████████▌                | 665kB 9.2MB/s eta 0:00:01\r\u001b[K     |███████████████▊                | 675kB 9.2MB/s eta 0:00:01\r\u001b[K     |████████████████                | 686kB 9.2MB/s eta 0:00:01\r\u001b[K     |████████████████▏               | 696kB 9.2MB/s eta 0:00:01\r\u001b[K     |████████████████▍               | 706kB 9.2MB/s eta 0:00:01\r\u001b[K     |████████████████▋               | 716kB 9.2MB/s eta 0:00:01\r\u001b[K     |████████████████▉               | 727kB 9.2MB/s eta 0:00:01\r\u001b[K     |█████████████████▏              | 737kB 9.2MB/s eta 0:00:01\r\u001b[K     |█████████████████▍              | 747kB 9.2MB/s eta 0:00:01\r\u001b[K     |█████████████████▋              | 757kB 9.2MB/s eta 0:00:01\r\u001b[K     |█████████████████▉              | 768kB 9.2MB/s eta 0:00:01\r\u001b[K     |██████████████████              | 778kB 9.2MB/s eta 0:00:01\r\u001b[K     |██████████████████▎             | 788kB 9.2MB/s eta 0:00:01\r\u001b[K     |██████████████████▌             | 798kB 9.2MB/s eta 0:00:01\r\u001b[K     |██████████████████▊             | 808kB 9.2MB/s eta 0:00:01\r\u001b[K     |███████████████████             | 819kB 9.2MB/s eta 0:00:01\r\u001b[K     |███████████████████▎            | 829kB 9.2MB/s eta 0:00:01\r\u001b[K     |███████████████████▌            | 839kB 9.2MB/s eta 0:00:01\r\u001b[K     |███████████████████▊            | 849kB 9.2MB/s eta 0:00:01\r\u001b[K     |████████████████████            | 860kB 9.2MB/s eta 0:00:01\r\u001b[K     |████████████████████▏           | 870kB 9.2MB/s eta 0:00:01\r\u001b[K     |████████████████████▍           | 880kB 9.2MB/s eta 0:00:01\r\u001b[K     |████████████████████▊           | 890kB 9.2MB/s eta 0:00:01\r\u001b[K     |█████████████████████           | 901kB 9.2MB/s eta 0:00:01\r\u001b[K     |█████████████████████▏          | 911kB 9.2MB/s eta 0:00:01\r\u001b[K     |█████████████████████▍          | 921kB 9.2MB/s eta 0:00:01\r\u001b[K     |█████████████████████▋          | 931kB 9.2MB/s eta 0:00:01\r\u001b[K     |█████████████████████▉          | 942kB 9.2MB/s eta 0:00:01\r\u001b[K     |██████████████████████          | 952kB 9.2MB/s eta 0:00:01\r\u001b[K     |██████████████████████▍         | 962kB 9.2MB/s eta 0:00:01\r\u001b[K     |██████████████████████▋         | 972kB 9.2MB/s eta 0:00:01\r\u001b[K     |██████████████████████▉         | 983kB 9.2MB/s eta 0:00:01\r\u001b[K     |███████████████████████         | 993kB 9.2MB/s eta 0:00:01\r\u001b[K     |███████████████████████▎        | 1.0MB 9.2MB/s eta 0:00:01\r\u001b[K     |███████████████████████▌        | 1.0MB 9.2MB/s eta 0:00:01\r\u001b[K     |███████████████████████▊        | 1.0MB 9.2MB/s eta 0:00:01\r\u001b[K     |████████████████████████        | 1.0MB 9.2MB/s eta 0:00:01\r\u001b[K     |████████████████████████▎       | 1.0MB 9.2MB/s eta 0:00:01\r\u001b[K     |████████████████████████▌       | 1.1MB 9.2MB/s eta 0:00:01\r\u001b[K     |████████████████████████▊       | 1.1MB 9.2MB/s eta 0:00:01\r\u001b[K     |█████████████████████████       | 1.1MB 9.2MB/s eta 0:00:01\r\u001b[K     |█████████████████████████▏      | 1.1MB 9.2MB/s eta 0:00:01\r\u001b[K     |█████████████████████████▍      | 1.1MB 9.2MB/s eta 0:00:01\r\u001b[K     |█████████████████████████▊      | 1.1MB 9.2MB/s eta 0:00:01\r\u001b[K     |██████████████████████████      | 1.1MB 9.2MB/s eta 0:00:01\r\u001b[K     |██████████████████████████▏     | 1.1MB 9.2MB/s eta 0:00:01\r\u001b[K     |██████████████████████████▍     | 1.1MB 9.2MB/s eta 0:00:01\r\u001b[K     |██████████████████████████▋     | 1.1MB 9.2MB/s eta 0:00:01\r\u001b[K     |██████████████████████████▉     | 1.2MB 9.2MB/s eta 0:00:01\r\u001b[K     |███████████████████████████     | 1.2MB 9.2MB/s eta 0:00:01\r\u001b[K     |███████████████████████████▎    | 1.2MB 9.2MB/s eta 0:00:01\r\u001b[K     |███████████████████████████▋    | 1.2MB 9.2MB/s eta 0:00:01\r\u001b[K     |███████████████████████████▉    | 1.2MB 9.2MB/s eta 0:00:01\r\u001b[K     |████████████████████████████    | 1.2MB 9.2MB/s eta 0:00:01\r\u001b[K     |████████████████████████████▎   | 1.2MB 9.2MB/s eta 0:00:01\r\u001b[K     |████████████████████████████▌   | 1.2MB 9.2MB/s eta 0:00:01\r\u001b[K     |████████████████████████████▊   | 1.2MB 9.2MB/s eta 0:00:01\r\u001b[K     |█████████████████████████████   | 1.2MB 9.2MB/s eta 0:00:01\r\u001b[K     |█████████████████████████████▎  | 1.3MB 9.2MB/s eta 0:00:01\r\u001b[K     |█████████████████████████████▌  | 1.3MB 9.2MB/s eta 0:00:01\r\u001b[K     |█████████████████████████████▊  | 1.3MB 9.2MB/s eta 0:00:01\r\u001b[K     |██████████████████████████████  | 1.3MB 9.2MB/s eta 0:00:01\r\u001b[K     |██████████████████████████████▏ | 1.3MB 9.2MB/s eta 0:00:01\r\u001b[K     |██████████████████████████████▍ | 1.3MB 9.2MB/s eta 0:00:01\r\u001b[K     |██████████████████████████████▋ | 1.3MB 9.2MB/s eta 0:00:01\r\u001b[K     |███████████████████████████████ | 1.3MB 9.2MB/s eta 0:00:01\r\u001b[K     |███████████████████████████████▏| 1.3MB 9.2MB/s eta 0:00:01\r\u001b[K     |███████████████████████████████▍| 1.4MB 9.2MB/s eta 0:00:01\r\u001b[K     |███████████████████████████████▋| 1.4MB 9.2MB/s eta 0:00:01\r\u001b[K     |███████████████████████████████▉| 1.4MB 9.2MB/s eta 0:00:01\r\u001b[K     |████████████████████████████████| 1.4MB 9.2MB/s \n",
            "\u001b[K     |████████████████████████████████| 102kB 14.7MB/s \n",
            "\u001b[K     |████████████████████████████████| 460kB 44.5MB/s \n",
            "\u001b[K     |████████████████████████████████| 102kB 15.9MB/s \n",
            "\u001b[K     |████████████████████████████████| 102kB 15.7MB/s \n",
            "\u001b[K     |████████████████████████████████| 71kB 11.4MB/s \n",
            "\u001b[K     |████████████████████████████████| 71kB 12.5MB/s \n",
            "\u001b[?25h  Building wheel for gql (setup.py) ... \u001b[?25l\u001b[?25hdone\n",
            "  Building wheel for watchdog (setup.py) ... \u001b[?25l\u001b[?25hdone\n",
            "  Building wheel for subprocess32 (setup.py) ... \u001b[?25l\u001b[?25hdone\n",
            "  Building wheel for graphql-core (setup.py) ... \u001b[?25l\u001b[?25hdone\n",
            "  Building wheel for pathtools (setup.py) ... \u001b[?25l\u001b[?25hdone\n"
          ],
          "name": "stdout"
        }
      ]
    },
    {
      "cell_type": "code",
      "metadata": {
        "id": "QWM4XQCt0wU_",
        "colab_type": "code",
        "colab": {}
      },
      "source": [
        "import tensorflow as tf\n",
        "from sklearn import preprocessing\n",
        "from tensorflow import keras\n",
        "from tensorflow.keras import models\n",
        "from tensorflow.keras import layers\n",
        "from tensorflow.keras import utils\n",
        "import matplotlib.pyplot as plt\n",
        "import pandas as pd\n",
        "import numpy as np\n",
        "import wandb\n",
        "from wandb.keras import WandbCallback"
      ],
      "execution_count": 0,
      "outputs": []
    },
    {
      "cell_type": "code",
      "metadata": {
        "id": "F4NjvwfAyK0k",
        "colab_type": "code",
        "colab": {}
      },
      "source": [
        "#from keras.optimizers import SGD"
      ],
      "execution_count": 0,
      "outputs": []
    },
    {
      "cell_type": "code",
      "metadata": {
        "id": "4wfgJnYZ1hhz",
        "colab_type": "code",
        "outputId": "c1fc46c1-a4d2-4b84-9a97-4e1855c0793a",
        "colab": {
          "base_uri": "https://localhost:8080/",
          "height": 104
        }
      },
      "source": [
        "from google.colab import drive\n",
        "drive.mount('/content/drive/')\n",
        "%cd /content/drive/My Drive/Dataset"
      ],
      "execution_count": 0,
      "outputs": [
        {
          "output_type": "stream",
          "text": [
            "Go to this URL in a browser: https://accounts.google.com/o/oauth2/auth?client_id=947318989803-6bn6qk8qdgf4n4g3pfee6491hc0brc4i.apps.googleusercontent.com&redirect_uri=urn%3aietf%3awg%3aoauth%3a2.0%3aoob&response_type=code&scope=email%20https%3a%2f%2fwww.googleapis.com%2fauth%2fdocs.test%20https%3a%2f%2fwww.googleapis.com%2fauth%2fdrive%20https%3a%2f%2fwww.googleapis.com%2fauth%2fdrive.photos.readonly%20https%3a%2f%2fwww.googleapis.com%2fauth%2fpeopleapi.readonly\n",
            "\n",
            "Enter your authorization code:\n",
            "··········\n"
          ],
          "name": "stdout"
        }
      ]
    },
    {
      "cell_type": "code",
      "metadata": {
        "id": "GOG3k872o2un",
        "colab_type": "code",
        "colab": {}
      },
      "source": [
        "%pwd"
      ],
      "execution_count": 0,
      "outputs": []
    },
    {
      "cell_type": "code",
      "metadata": {
        "id": "hBNFZYrxo50K",
        "colab_type": "code",
        "outputId": "97811f16-9575-425c-bd8d-8a50b3f16575",
        "colab": {
          "base_uri": "https://localhost:8080/",
          "height": 163
        }
      },
      "source": [
        "%ls"
      ],
      "execution_count": 0,
      "outputs": [
        {
          "output_type": "stream",
          "text": [
            "audio.wav             model_small.json              smalldata.rar\n",
            "\u001b[0m\u001b[01;34mbig_data_npy\u001b[0m/         model_small_to_my_weights.h5  \u001b[01;34mtestdata\u001b[0m/\n",
            "CNN_model.json        \u001b[01;34mnpy_data\u001b[0m/                     \u001b[01;34mtest_data_full\u001b[0m/\n",
            "CNN_model_weights.h5  npy_data.rar                  test_data_full.rar\n",
            "data1.rar             path_to_my_weights.h5         testdata.rar\n",
            "\u001b[01;34mfull_small_data_npy\u001b[0m/  preprocess.py                 \u001b[01;34mtfjsmodel\u001b[0m/\n",
            "kerasmodel            \u001b[01;34m__pycache__\u001b[0m/                  Train_data_full.rar\n",
            "model_config.json     \u001b[01;34mSmall_data_npy\u001b[0m/               \u001b[01;34mwandb\u001b[0m/\n"
          ],
          "name": "stdout"
        }
      ]
    },
    {
      "cell_type": "code",
      "metadata": {
        "id": "QD-90cxF1s3g",
        "colab_type": "code",
        "colab": {}
      },
      "source": [
        "import librosa\n",
        "import os\n",
        "from sklearn.model_selection import train_test_split\n",
        "from keras.utils import to_categorical\n",
        "import numpy as np\n",
        "from tqdm import tqdm"
      ],
      "execution_count": 0,
      "outputs": []
    },
    {
      "cell_type": "code",
      "metadata": {
        "id": "yV7D5-BMyK0o",
        "colab_type": "code",
        "outputId": "c552cd37-ee68-4281-ded5-584b307bb591",
        "colab": {
          "base_uri": "https://localhost:8080/",
          "height": 69
        }
      },
      "source": [
        "wandb.init()\n",
        "config = wandb.config\n",
        "\n",
        "config.max_len = 11\n",
        "config.buckets = 20\n",
        "#max_len=11\n",
        "#buckets=20\n",
        "\n",
        "labels=['background noise', 'backward', 'bed', 'bird', 'cat', 'dog', 'eight', 'five', 'follow', 'forward', 'four', 'go', 'happy', 'house', 'learn',\n",
        "        'left', 'marvin', 'nine', 'no', 'off', 'on', 'one', 'right', 'seven', 'sheila', 'six', 'stop', 'three', 'tree', 'two', 'up', 'visual', 'wow', 'yes', 'zero']\n",
        "indices=[ 0,  1,  2,  3,  4,  5,  6,  7,  8,  9, 10, 11, 12, 13, 14, 15, 16, 17, 18, 19, 20, 21, 22, 23, 24, 25, 26, 27, 28, 29, 30, 31, 32, 33,34]\n",
        "\n",
        "\n",
        "'''DATA_PATH = \"./npy_data/\"\n",
        "# Input: Folder Path\n",
        "# Output: Tuple (Label, Indices of the labels, one-hot encoded labels)\n",
        "def get_labels(path=DATA_PATH):\n",
        "    labels = os.listdir(path)\n",
        "    label_indices = np.arange(0, len(labels))\n",
        "    return labels, label_indices, to_categorical(label_indices)\n",
        "\n",
        "\n",
        "# convert file to wav2mfcc\n",
        "# Mel-frequency cepstral coefficients\n",
        "def wav2mfcc(file_path, n_mfcc=20, max_len=11):\n",
        "    wave, sr = librosa.load(file_path, mono=True, sr=None)\n",
        "    wave = np.asfortranarray(wave[::3])\n",
        "    mfcc = librosa.feature.mfcc(wave, sr=16000, n_mfcc=n_mfcc)\n",
        "\n",
        "    # If maximum length exceeds mfcc lengths then pad the remaining ones\n",
        "    if (max_len > mfcc.shape[1]):\n",
        "        pad_width = max_len - mfcc.shape[1]\n",
        "        mfcc = np.pad(mfcc, pad_width=((0, 0), (0, pad_width)), mode='constant')\n",
        "\n",
        "    # Else cutoff the remaining parts\n",
        "    else:\n",
        "        mfcc = mfcc[:, :max_len]\n",
        "    \n",
        "    return mfcc\n",
        "\n",
        "def save_data_to_array(path=DATA_PATH, max_len=11, n_mfcc=20):\n",
        "    labels, _, _ = get_labels(path)\n",
        "\n",
        "    for label in labels:\n",
        "        # Init mfcc vectors\n",
        "        mfcc_vectors = []\n",
        "\n",
        "        wavfiles = [path + label + '/' + wavfile for wavfile in os.listdir(path + '/' + label)]\n",
        "        for wavfile in tqdm(wavfiles, \"Saving vectors of label - '{}'\".format(label)):\n",
        "            mfcc = wav2mfcc(wavfile, max_len=max_len, n_mfcc=n_mfcc)\n",
        "            mfcc_vectors.append(mfcc)\n",
        "        np.save(label + '.npy', mfcc_vectors)\n",
        "\n",
        "# Save data to array file first\n",
        "save_data_to_array(max_len=max_len, n_mfcc=buckets)\n",
        "'''\n",
        "\n",
        "PATH = \"./npy_data/\"\n",
        "def get_train_test(split_ratio=0.8, random_state=42):\n",
        "    # Get available labels\n",
        "    #labels, indices, _ = get_labels(DATA_PATH)\n",
        "\n",
        "    # Getting first arrays\n",
        "    \n",
        "    X = np.load(PATH+labels[0] + '.npy')\n",
        "    y = np.zeros(X.shape[0])\n",
        "\n",
        "    # Append all of the dataset into one single array, same goes for y\n",
        "    for i, label in enumerate(labels[1:]):\n",
        "        x = np.load(PATH+label + '.npy')\n",
        "        X = np.vstack((X, x))\n",
        "        y = np.append(y, np.full(x.shape[0], fill_value= (i + 1)))\n",
        "\n",
        "    assert X.shape[0] == len(y)\n",
        "\n",
        "    return train_test_split(X, y, test_size= (1 - split_ratio), random_state=random_state, shuffle=True)\n",
        "\n",
        "\n",
        "# # Loading train set and test set\n",
        "X_train, X_test, y_train, y_test = get_train_test()\n",
        "\n",
        "# # Feature dimension\n",
        "channels = 1\n",
        "config.epochs = 50\n",
        "config.batch_size = 32\n",
        "num_classes = 35\n",
        "\n",
        "X_train = X_train.reshape(X_train.shape[0], config.buckets, config.max_len)\n",
        "X_test = X_test.reshape(X_test.shape[0], config.buckets, config.max_len)\n",
        "\n",
        "y_train_hot = to_categorical(y_train)\n",
        "y_test_hot = to_categorical(y_test)\n",
        "\n",
        "\n",
        "#sgd = SGD(lr=0.01,decay=1e-6,momentum=0.9,nesterov=True)\n",
        "#model.compile(loss=\"categorical_crossentropy\",\n",
        "#                  optimizer=\"sgd\",\n",
        "#                  metrics=['accuracy'])\n",
        "\n"
      ],
      "execution_count": 0,
      "outputs": [
        {
          "output_type": "display_data",
          "data": {
            "text/html": [
              "\n",
              "                Logging results to <a href=\"https://wandb.com\" target=\"_blank\">Weights & Biases</a> <a href=\"https://docs.wandb.com/integrations/jupyter.html\" target=\"_blank\">(Documentation)</a>.<br/>\n",
              "                Project page: <a href=\"https://app.wandb.ai/dystar/uncategorized\" target=\"_blank\">https://app.wandb.ai/dystar/uncategorized</a><br/>\n",
              "                Run page: <a href=\"https://app.wandb.ai/dystar/uncategorized/runs/1krkiglu\" target=\"_blank\">https://app.wandb.ai/dystar/uncategorized/runs/1krkiglu</a><br/>\n",
              "            "
            ],
            "text/plain": [
              "<IPython.core.display.HTML object>"
            ]
          },
          "metadata": {
            "tags": []
          }
        }
      ]
    },
    {
      "cell_type": "code",
      "metadata": {
        "id": "4DRrfPWRyaOo",
        "colab_type": "code",
        "outputId": "47af1fef-8805-4d4f-e4b2-34d28762c04e",
        "colab": {
          "base_uri": "https://localhost:8080/",
          "height": 1000
        }
      },
      "source": [
        "# build model\n",
        "model = tf.keras.Sequential()\n",
        "model.add(layers.Conv2D(16,(3,3),input_shape=(config.buckets, config.max_len,channels),\n",
        "                        activation='relu',strides=(1,1),padding='same'))\n",
        "model.add(layers.Conv2D(32,(3,3),activation='relu',strides=(1,1),padding='same'))\n",
        "model.add(layers.Conv2D(64,(3,3),activation='relu',strides=(1,1),padding='same'))\n",
        "model.add(layers.Conv2D(128,(3,3),activation='relu',strides=(1,1),padding='same'))\n",
        "model.add(layers.MaxPooling2D(pool_size=(2, 2)))\n",
        "model.add(layers.Flatten())\n",
        "model.add(layers.Dropout(0.5))\n",
        "model.add(layers.Dense(128, activation='relu'))\n",
        "model.add(layers.Dense(64, activation='relu'))\n",
        "model.add(layers.Dropout(0.5))\n",
        "model.add(layers.Dense(num_classes, activation='softmax'))\n",
        "\n",
        "model.compile(loss=\"categorical_crossentropy\",\n",
        "                  optimizer=\"adam\",\n",
        "                  metrics=['accuracy'])\n",
        "\n",
        "wandb.init()\n",
        "model.fit(X_train, y_train_hot, epochs=config.epochs , batch_size=config.batch_size\n",
        "          , validation_data=(X_test, y_test_hot),callbacks=[WandbCallback(data_type=\"image\", labels=labels)])"
      ],
      "execution_count": 0,
      "outputs": [
        {
          "output_type": "stream",
          "text": [
            "WARNING:tensorflow:From /usr/local/lib/python3.6/dist-packages/tensorflow_core/python/ops/resource_variable_ops.py:1630: calling BaseResourceVariable.__init__ (from tensorflow.python.ops.resource_variable_ops) with constraint is deprecated and will be removed in a future version.\n",
            "Instructions for updating:\n",
            "If using Keras pass *_constraint arguments to layers.\n"
          ],
          "name": "stdout"
        },
        {
          "output_type": "display_data",
          "data": {
            "text/html": [
              "\n",
              "                Logging results to <a href=\"https://wandb.com\" target=\"_blank\">Weights & Biases</a> <a href=\"https://docs.wandb.com/integrations/jupyter.html\" target=\"_blank\">(Documentation)</a>.<br/>\n",
              "                Project page: <a href=\"https://app.wandb.ai/dystar/uncategorized\" target=\"_blank\">https://app.wandb.ai/dystar/uncategorized</a><br/>\n",
              "                Run page: <a href=\"https://app.wandb.ai/dystar/uncategorized/runs/xuuzbcec\" target=\"_blank\">https://app.wandb.ai/dystar/uncategorized/runs/xuuzbcec</a><br/>\n",
              "            "
            ],
            "text/plain": [
              "<IPython.core.display.HTML object>"
            ]
          },
          "metadata": {
            "tags": []
          }
        },
        {
          "output_type": "stream",
          "text": [
            "Train on 76094 samples, validate on 19024 samples\n",
            "Epoch 1/50\n",
            "76094/76094 [==============================] - 35s 458us/sample - loss: 2.4139 - acc: 0.3140 - val_loss: 1.2186 - val_acc: 0.6400\n",
            "Epoch 2/50\n",
            "76094/76094 [==============================] - 29s 382us/sample - loss: 1.3964 - acc: 0.5971 - val_loss: 0.9405 - val_acc: 0.7212\n",
            "Epoch 3/50\n",
            "76094/76094 [==============================] - 28s 368us/sample - loss: 1.1504 - acc: 0.6755 - val_loss: 0.8130 - val_acc: 0.7629\n",
            "Epoch 4/50\n",
            "76094/76094 [==============================] - 28s 372us/sample - loss: 1.0362 - acc: 0.7101 - val_loss: 0.7808 - val_acc: 0.7754\n",
            "Epoch 5/50\n",
            "76094/76094 [==============================] - 28s 363us/sample - loss: 0.9561 - acc: 0.7342 - val_loss: 0.7225 - val_acc: 0.7931\n",
            "Epoch 6/50\n",
            "76094/76094 [==============================] - 28s 373us/sample - loss: 0.9126 - acc: 0.7490 - val_loss: 0.7385 - val_acc: 0.7922\n",
            "Epoch 7/50\n",
            "76094/76094 [==============================] - 28s 362us/sample - loss: 0.8724 - acc: 0.7593 - val_loss: 0.6767 - val_acc: 0.8060\n",
            "Epoch 8/50\n",
            "76094/76094 [==============================] - 28s 371us/sample - loss: 0.8368 - acc: 0.7707 - val_loss: 0.6581 - val_acc: 0.8137\n",
            "Epoch 9/50\n",
            "76094/76094 [==============================] - 28s 367us/sample - loss: 0.8141 - acc: 0.7786 - val_loss: 0.6875 - val_acc: 0.8093\n",
            "Epoch 10/50\n",
            "76094/76094 [==============================] - 29s 387us/sample - loss: 0.7898 - acc: 0.7839 - val_loss: 0.6541 - val_acc: 0.8180\n",
            "Epoch 11/50\n",
            "76094/76094 [==============================] - 28s 374us/sample - loss: 0.7730 - acc: 0.7906 - val_loss: 0.6413 - val_acc: 0.8219\n",
            "Epoch 12/50\n",
            "76094/76094 [==============================] - 29s 376us/sample - loss: 0.7447 - acc: 0.7965 - val_loss: 0.6581 - val_acc: 0.8215\n",
            "Epoch 13/50\n",
            "76094/76094 [==============================] - 28s 369us/sample - loss: 0.7389 - acc: 0.7993 - val_loss: 0.6414 - val_acc: 0.8266\n",
            "Epoch 14/50\n",
            "76094/76094 [==============================] - 28s 362us/sample - loss: 0.7199 - acc: 0.8048 - val_loss: 0.6439 - val_acc: 0.8240\n",
            "Epoch 15/50\n",
            "76094/76094 [==============================] - 27s 349us/sample - loss: 0.7104 - acc: 0.8074 - val_loss: 0.6469 - val_acc: 0.8252\n",
            "Epoch 16/50\n",
            "76094/76094 [==============================] - 27s 358us/sample - loss: 0.6836 - acc: 0.8140 - val_loss: 0.6445 - val_acc: 0.8226\n",
            "Epoch 17/50\n",
            "76094/76094 [==============================] - 27s 357us/sample - loss: 0.6856 - acc: 0.8145 - val_loss: 0.6619 - val_acc: 0.8250\n",
            "Epoch 18/50\n",
            "76094/76094 [==============================] - 27s 355us/sample - loss: 0.6762 - acc: 0.8189 - val_loss: 0.6749 - val_acc: 0.8227\n",
            "Epoch 19/50\n",
            "76094/76094 [==============================] - 27s 350us/sample - loss: 0.6655 - acc: 0.8188 - val_loss: 0.6761 - val_acc: 0.8216\n",
            "Epoch 20/50\n",
            "76094/76094 [==============================] - 28s 364us/sample - loss: 0.6585 - acc: 0.8224 - val_loss: 0.6592 - val_acc: 0.8260\n",
            "Epoch 21/50\n",
            "76094/76094 [==============================] - 27s 353us/sample - loss: 0.6435 - acc: 0.8277 - val_loss: 0.7087 - val_acc: 0.8200\n",
            "Epoch 22/50\n",
            "76094/76094 [==============================] - 28s 368us/sample - loss: 0.6494 - acc: 0.8260 - val_loss: 0.6856 - val_acc: 0.8214\n",
            "Epoch 23/50\n",
            "76094/76094 [==============================] - 28s 364us/sample - loss: 0.6399 - acc: 0.8303 - val_loss: 0.7168 - val_acc: 0.8175\n",
            "Epoch 24/50\n",
            "76094/76094 [==============================] - 28s 365us/sample - loss: 0.6229 - acc: 0.8338 - val_loss: 0.6650 - val_acc: 0.8336\n",
            "Epoch 25/50\n",
            "76094/76094 [==============================] - 28s 367us/sample - loss: 0.6301 - acc: 0.8342 - val_loss: 0.7057 - val_acc: 0.8286\n",
            "Epoch 26/50\n",
            "76094/76094 [==============================] - 28s 372us/sample - loss: 0.6125 - acc: 0.8361 - val_loss: 0.6861 - val_acc: 0.8339\n",
            "Epoch 27/50\n",
            "76094/76094 [==============================] - 27s 351us/sample - loss: 0.6152 - acc: 0.8377 - val_loss: 0.7066 - val_acc: 0.8274\n",
            "Epoch 28/50\n",
            "76094/76094 [==============================] - 27s 361us/sample - loss: 0.6066 - acc: 0.8408 - val_loss: 0.7194 - val_acc: 0.8216\n",
            "Epoch 29/50\n",
            "76094/76094 [==============================] - 26s 344us/sample - loss: 0.5988 - acc: 0.8429 - val_loss: 0.6979 - val_acc: 0.8246\n",
            "Epoch 30/50\n",
            "76094/76094 [==============================] - 27s 358us/sample - loss: 0.5975 - acc: 0.8438 - val_loss: 0.6887 - val_acc: 0.8352\n",
            "Epoch 31/50\n",
            "76094/76094 [==============================] - 26s 345us/sample - loss: 0.5934 - acc: 0.8449 - val_loss: 0.6902 - val_acc: 0.8337\n",
            "Epoch 32/50\n",
            "76094/76094 [==============================] - 27s 361us/sample - loss: 0.5978 - acc: 0.8452 - val_loss: 0.6739 - val_acc: 0.8353\n",
            "Epoch 33/50\n",
            "76094/76094 [==============================] - 27s 349us/sample - loss: 0.5874 - acc: 0.8477 - val_loss: 0.7020 - val_acc: 0.8294\n",
            "Epoch 34/50\n",
            "76094/76094 [==============================] - 27s 359us/sample - loss: 0.5766 - acc: 0.8513 - val_loss: 0.6732 - val_acc: 0.8390\n",
            "Epoch 35/50\n",
            "76094/76094 [==============================] - 27s 357us/sample - loss: 0.5701 - acc: 0.8518 - val_loss: 0.6981 - val_acc: 0.8301\n",
            "Epoch 36/50\n",
            "76094/76094 [==============================] - 29s 376us/sample - loss: 0.5689 - acc: 0.8518 - val_loss: 0.6748 - val_acc: 0.8370\n",
            "Epoch 37/50\n",
            "76094/76094 [==============================] - 28s 366us/sample - loss: 0.5638 - acc: 0.8533 - val_loss: 0.6719 - val_acc: 0.8318\n",
            "Epoch 38/50\n",
            "76094/76094 [==============================] - 29s 382us/sample - loss: 0.5555 - acc: 0.8577 - val_loss: 0.7430 - val_acc: 0.8284\n",
            "Epoch 39/50\n",
            "76094/76094 [==============================] - 29s 376us/sample - loss: 0.5716 - acc: 0.8540 - val_loss: 0.7066 - val_acc: 0.8276\n",
            "Epoch 40/50\n",
            "76094/76094 [==============================] - 28s 371us/sample - loss: 0.5620 - acc: 0.8563 - val_loss: 0.7010 - val_acc: 0.8382\n",
            "Epoch 41/50\n",
            "76094/76094 [==============================] - 27s 349us/sample - loss: 0.5533 - acc: 0.8593 - val_loss: 0.7344 - val_acc: 0.8241\n",
            "Epoch 42/50\n",
            "76094/76094 [==============================] - 27s 360us/sample - loss: 0.5541 - acc: 0.8596 - val_loss: 0.7248 - val_acc: 0.8333\n",
            "Epoch 43/50\n",
            "76094/76094 [==============================] - 26s 348us/sample - loss: 0.5619 - acc: 0.8596 - val_loss: 0.7711 - val_acc: 0.8235\n",
            "Epoch 44/50\n",
            "76094/76094 [==============================] - 27s 351us/sample - loss: 0.5497 - acc: 0.8621 - val_loss: 0.7515 - val_acc: 0.8302\n",
            "Epoch 45/50\n",
            "76094/76094 [==============================] - 26s 341us/sample - loss: 0.5445 - acc: 0.8627 - val_loss: 0.7487 - val_acc: 0.8304\n",
            "Epoch 46/50\n",
            "76094/76094 [==============================] - 27s 350us/sample - loss: 0.5551 - acc: 0.8605 - val_loss: 0.7307 - val_acc: 0.8332\n",
            "Epoch 47/50\n",
            "76094/76094 [==============================] - 26s 346us/sample - loss: 0.5357 - acc: 0.8644 - val_loss: 0.7362 - val_acc: 0.8386\n",
            "Epoch 48/50\n",
            "76094/76094 [==============================] - 29s 376us/sample - loss: 0.5469 - acc: 0.8650 - val_loss: 0.7305 - val_acc: 0.8334\n",
            "Epoch 49/50\n",
            "76094/76094 [==============================] - 28s 367us/sample - loss: 0.5410 - acc: 0.8660 - val_loss: 0.7182 - val_acc: 0.8336\n",
            "Epoch 50/50\n",
            "76094/76094 [==============================] - 29s 377us/sample - loss: 0.5319 - acc: 0.8664 - val_loss: 0.7688 - val_acc: 0.8298\n"
          ],
          "name": "stdout"
        },
        {
          "output_type": "execute_result",
          "data": {
            "text/plain": [
              "<tensorflow.python.keras.callbacks.History at 0x7fe3b6b23c88>"
            ]
          },
          "metadata": {
            "tags": []
          },
          "execution_count": 9
        }
      ]
    },
    {
      "cell_type": "code",
      "metadata": {
        "id": "ddF4WyU44CAC",
        "colab_type": "code",
        "colab": {}
      },
      "source": [
        "# Save JSON config to disk\n",
        "json_config = model.to_json()\n",
        "with open('CNN_model.json', 'w') as json_file:\n",
        "    json_file.write(json_config)\n",
        "# Save weights to disk\n",
        "model.save_weights('CNN_model_weights.h5')\n"
      ],
      "execution_count": 0,
      "outputs": []
    },
    {
      "cell_type": "code",
      "metadata": {
        "id": "YgwQEYtVERXw",
        "colab_type": "code",
        "outputId": "e3ca3920-dd47-49e5-a65c-e01b3197156c",
        "colab": {
          "base_uri": "https://localhost:8080/",
          "height": 146
        }
      },
      "source": [
        "# Reload the model from the 2 files we saved\n",
        "with open('CNN_model.json') as json_file:\n",
        "    json_config = json_file.read()\n",
        "new_model = keras.models.model_from_json(json_config)\n",
        "new_model.load_weights('CNN_model_weights.h5')"
      ],
      "execution_count": 0,
      "outputs": [
        {
          "output_type": "stream",
          "text": [
            "WARNING:tensorflow:From /usr/local/lib/python3.6/dist-packages/tensorflow_core/python/ops/init_ops.py:97: calling GlorotUniform.__init__ (from tensorflow.python.ops.init_ops) with dtype is deprecated and will be removed in a future version.\n",
            "Instructions for updating:\n",
            "Call initializer instance with the dtype argument instead of passing it to the constructor\n",
            "WARNING:tensorflow:From /usr/local/lib/python3.6/dist-packages/tensorflow_core/python/ops/init_ops.py:97: calling Zeros.__init__ (from tensorflow.python.ops.init_ops) with dtype is deprecated and will be removed in a future version.\n",
            "Instructions for updating:\n",
            "Call initializer instance with the dtype argument instead of passing it to the constructor\n"
          ],
          "name": "stdout"
        }
      ]
    },
    {
      "cell_type": "code",
      "metadata": {
        "id": "oygpFv6hEZzA",
        "colab_type": "code",
        "colab": {}
      },
      "source": [
        "labels_word = pd.Series(labels)\n",
        "labels_indices = pd.Series(indices)\n",
        "data=pd.DataFrame({ 'Total words': labels_word , 'Word indices': labels_indices })"
      ],
      "execution_count": 0,
      "outputs": []
    },
    {
      "cell_type": "code",
      "metadata": {
        "id": "viq2j95GFJyn",
        "colab_type": "code",
        "outputId": "e92e80d2-4d90-403d-b5f3-0654ac358590",
        "colab": {
          "base_uri": "https://localhost:8080/",
          "height": 163
        }
      },
      "source": [
        "%ls\n"
      ],
      "execution_count": 0,
      "outputs": [
        {
          "output_type": "stream",
          "text": [
            "\u001b[0m\u001b[01;34mbig_data_npy\u001b[0m/         model_small_to_my_weights.h5  \u001b[01;34mtestdata\u001b[0m/\n",
            "CNN_model.json        \u001b[01;34mnpy_data\u001b[0m/                     \u001b[01;34mtest_data_full\u001b[0m/\n",
            "CNN_model_weights.h5  npy_data.rar                  test_data_full.rar\n",
            "data1.rar             path_to_my_weights.h5         testdata.rar\n",
            "\u001b[01;34mfull_small_data_npy\u001b[0m/  preprocess.py                 \u001b[01;34mtfjsmodel\u001b[0m/\n",
            "kerasmodel            \u001b[01;34m__pycache__\u001b[0m/                  Train_data_full.rar\n",
            "model_config.json     \u001b[01;34mSmall_data_npy\u001b[0m/               \u001b[01;34mwandb\u001b[0m/\n",
            "model_small.json      smalldata.rar\n"
          ],
          "name": "stdout"
        }
      ]
    },
    {
      "cell_type": "code",
      "metadata": {
        "id": "BhRAzJ0FE0hz",
        "colab_type": "code",
        "outputId": "162b6c6e-78e4-44bc-f590-3ebd98e4f962",
        "colab": {
          "base_uri": "https://localhost:8080/",
          "height": 72
        }
      },
      "source": [
        "audio_path='/content/drive/My Drive/Dataset/test_data_full/sheila/e2286c18_nohash_0.wav'\n",
        "y,sr = librosa.load(audio_path,mono=True,sr=None)\n",
        "wave = np.asfortranarray(y[::3])\n",
        "#mfcc = librosa.feature.mfcc(wave)\n",
        "mfcc = librosa.feature.mfcc(wave, sr=16000, n_mfcc=20)\n",
        "if (11 > mfcc.shape[1]):\n",
        "  pad_width = 11 - mfcc.shape[1]\n",
        "  mfcc = np.pad(mfcc, pad_width=((0, 0), (0, pad_width)), mode='constant')\n",
        "\n",
        "# Else cutoff the remaining parts\n",
        "else:\n",
        "  mfcc = mfcc[:, :11]\n",
        "Xnew = mfcc.reshape(1,20,11,1)\n",
        "ynew = new_model.predict_classes(Xnew)\n",
        "print(ynew)\n",
        "data['Total words'][ynew]"
      ],
      "execution_count": 0,
      "outputs": [
        {
          "output_type": "stream",
          "text": [
            "[24]\n"
          ],
          "name": "stdout"
        },
        {
          "output_type": "execute_result",
          "data": {
            "text/plain": [
              "24    sheila\n",
              "Name: Total words, dtype: object"
            ]
          },
          "metadata": {
            "tags": []
          },
          "execution_count": 27
        }
      ]
    },
    {
      "cell_type": "code",
      "metadata": {
        "id": "9n1eABmUGhKE",
        "colab_type": "code",
        "outputId": "5bdf2e55-9fd5-420c-ae5b-682eac0c41d2",
        "colab": {
          "base_uri": "https://localhost:8080/",
          "height": 563
        }
      },
      "source": [
        "new_model.summary()"
      ],
      "execution_count": 0,
      "outputs": [
        {
          "output_type": "stream",
          "text": [
            "Model: \"sequential\"\n",
            "_________________________________________________________________\n",
            "Layer (type)                 Output Shape              Param #   \n",
            "=================================================================\n",
            "conv2d (Conv2D)              (None, 20, 11, 16)        160       \n",
            "_________________________________________________________________\n",
            "conv2d_1 (Conv2D)            (None, 20, 11, 32)        4640      \n",
            "_________________________________________________________________\n",
            "conv2d_2 (Conv2D)            (None, 20, 11, 64)        18496     \n",
            "_________________________________________________________________\n",
            "conv2d_3 (Conv2D)            (None, 20, 11, 128)       73856     \n",
            "_________________________________________________________________\n",
            "max_pooling2d (MaxPooling2D) (None, 10, 5, 128)        0         \n",
            "_________________________________________________________________\n",
            "flatten (Flatten)            (None, 6400)              0         \n",
            "_________________________________________________________________\n",
            "dropout (Dropout)            (None, 6400)              0         \n",
            "_________________________________________________________________\n",
            "dense (Dense)                (None, 128)               819328    \n",
            "_________________________________________________________________\n",
            "dense_1 (Dense)              (None, 64)                8256      \n",
            "_________________________________________________________________\n",
            "dropout_1 (Dropout)          (None, 64)                0         \n",
            "_________________________________________________________________\n",
            "dense_2 (Dense)              (None, 35)                2275      \n",
            "=================================================================\n",
            "Total params: 927,011\n",
            "Trainable params: 927,011\n",
            "Non-trainable params: 0\n",
            "_________________________________________________________________\n"
          ],
          "name": "stdout"
        }
      ]
    },
    {
      "cell_type": "code",
      "metadata": {
        "id": "ImDS-7ON3g2Q",
        "colab_type": "code",
        "colab": {}
      },
      "source": [
        "!pip -q install pydub\n",
        "from IPython.display import Audio"
      ],
      "execution_count": 0,
      "outputs": []
    },
    {
      "cell_type": "code",
      "metadata": {
        "id": "Y6DoRuQpwWAE",
        "colab_type": "code",
        "colab": {}
      },
      "source": [
        "# all imports\n",
        "from IPython.display import Javascript\n",
        "from google.colab import output\n",
        "from base64 import b64decode\n",
        "from io import BytesIO\n",
        "#!pip -q install pydub\n",
        "from pydub import AudioSegment\n",
        "\n",
        "RECORD = \"\"\"\n",
        "const sleep  = time => new Promise(resolve => setTimeout(resolve, time))\n",
        "const b2text = blob => new Promise(resolve => {\n",
        "  const reader = new FileReader()\n",
        "  reader.onloadend = e => resolve(e.srcElement.result)\n",
        "  reader.readAsDataURL(blob)\n",
        "})\n",
        "var record = time => new Promise(async resolve => {\n",
        "  stream = await navigator.mediaDevices.getUserMedia({ audio: true })\n",
        "  recorder = new MediaRecorder(stream)\n",
        "  chunks = []\n",
        "  recorder.ondataavailable = e => chunks.push(e.data)\n",
        "  recorder.start()\n",
        "  await sleep(time)\n",
        "  recorder.onstop = async ()=>{\n",
        "    blob = new Blob(chunks)\n",
        "    text = await b2text(blob)\n",
        "    resolve(text)\n",
        "  }\n",
        "  recorder.stop()\n",
        "})\n",
        "\"\"\"\n",
        "\n",
        "'''def record(sec=2):\n",
        "  display(Javascript(RECORD))\n",
        "  s = output.eval_js('record(%d)' % (sec*1000))\n",
        "  b = b64decode(s.split(',')[1])\n",
        "  audio = AudioSegment.from_file(BytesIO(b))\n",
        "  return audio'''\n",
        "\n",
        "# all imports\n",
        "'''from IPython.display import Javascript\n",
        "from google.colab import output\n",
        "from base64 import b64decode'''\n",
        "\n",
        "def record(sec=1):\n",
        "  display(Javascript(RECORD))\n",
        "  s = output.eval_js('record(%d)' % (sec*1000))\n",
        "  b = b64decode(s.split(',')[1])\n",
        "  with open('audio.wav','wb') as f:\n",
        "    f.write(b)\n",
        "  return 'audio.wav'"
      ],
      "execution_count": 0,
      "outputs": []
    },
    {
      "cell_type": "code",
      "metadata": {
        "id": "fLf_CgUU0nBj",
        "colab_type": "code",
        "outputId": "a515ccf2-172e-4203-d6f8-79ca07ab080f",
        "colab": {
          "base_uri": "https://localhost:8080/",
          "height": 75
        }
      },
      "source": [
        "record()\n",
        "Audio('audio.wav', autoplay=True)"
      ],
      "execution_count": 0,
      "outputs": [
        {
          "output_type": "display_data",
          "data": {
            "application/javascript": [
              "\n",
              "const sleep  = time => new Promise(resolve => setTimeout(resolve, time))\n",
              "const b2text = blob => new Promise(resolve => {\n",
              "  const reader = new FileReader()\n",
              "  reader.onloadend = e => resolve(e.srcElement.result)\n",
              "  reader.readAsDataURL(blob)\n",
              "})\n",
              "var record = time => new Promise(async resolve => {\n",
              "  stream = await navigator.mediaDevices.getUserMedia({ audio: true })\n",
              "  recorder = new MediaRecorder(stream)\n",
              "  chunks = []\n",
              "  recorder.ondataavailable = e => chunks.push(e.data)\n",
              "  recorder.start()\n",
              "  await sleep(time)\n",
              "  recorder.onstop = async ()=>{\n",
              "    blob = new Blob(chunks)\n",
              "    text = await b2text(blob)\n",
              "    resolve(text)\n",
              "  }\n",
              "  recorder.stop()\n",
              "})\n"
            ],
            "text/plain": [
              "<IPython.core.display.Javascript object>"
            ]
          },
          "metadata": {
            "tags": []
          }
        },
        {
          "output_type": "execute_result",
          "data": {
            "text/html": [
              "\n",
              "                <audio controls=\"controls\" autoplay=\"autoplay\">\n",
              "                    <source src=\"data:audio/x-wav;base64,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\" type=\"audio/x-wav\" />\n",
              "                    Your browser does not support the audio element.\n",
              "                </audio>\n",
              "              "
            ],
            "text/plain": [
              "<IPython.lib.display.Audio object>"
            ]
          },
          "metadata": {
            "tags": []
          },
          "execution_count": 57
        }
      ]
    },
    {
      "cell_type": "code",
      "metadata": {
        "id": "fmkMV8am0wo2",
        "colab_type": "code",
        "outputId": "beb17e54-581e-4842-e712-6cb65787ece3",
        "colab": {
          "base_uri": "https://localhost:8080/",
          "height": 35
        }
      },
      "source": [
        "!pwd"
      ],
      "execution_count": 0,
      "outputs": [
        {
          "output_type": "stream",
          "text": [
            "/content/drive/My Drive/Dataset\n"
          ],
          "name": "stdout"
        }
      ]
    },
    {
      "cell_type": "code",
      "metadata": {
        "id": "dwOqe355vzpg",
        "colab_type": "code",
        "outputId": "651d8de2-244e-48fa-8b8f-12bf58eee96e",
        "colab": {
          "base_uri": "https://localhost:8080/",
          "height": 72
        }
      },
      "source": [
        "record()\n",
        "audio_path='/content/drive/My Drive/Dataset/audio.wav'\n",
        "y,sr = librosa.load(audio_path,mono=True,sr=None)\n",
        "wave = np.asfortranarray(y[::3])\n",
        "mfcc = librosa.feature.mfcc(wave,sr=16000, n_mfcc=20)\n",
        "# If maximum length exceeds mfcc lengths then pad the remaining ones\n",
        "if (11 > mfcc.shape[1]):\n",
        "  pad_width = 11 - mfcc.shape[1]\n",
        "  mfcc = np.pad(mfcc, pad_width=((0, 0), (0, pad_width)), mode='constant')\n",
        "\n",
        "# Else cutoff the remaining parts\n",
        "else:\n",
        "  mfcc = mfcc[:, :11]\n",
        "Xnew = mfcc.reshape(1,20,11,1)\n",
        "ynew = new_model.predict_classes(Xnew)\n",
        "print(ynew)\n",
        "data['Total words'][ynew]"
      ],
      "execution_count": 0,
      "outputs": [
        {
          "output_type": "display_data",
          "data": {
            "application/javascript": [
              "\n",
              "const sleep  = time => new Promise(resolve => setTimeout(resolve, time))\n",
              "const b2text = blob => new Promise(resolve => {\n",
              "  const reader = new FileReader()\n",
              "  reader.onloadend = e => resolve(e.srcElement.result)\n",
              "  reader.readAsDataURL(blob)\n",
              "})\n",
              "var record = time => new Promise(async resolve => {\n",
              "  stream = await navigator.mediaDevices.getUserMedia({ audio: true })\n",
              "  recorder = new MediaRecorder(stream)\n",
              "  chunks = []\n",
              "  recorder.ondataavailable = e => chunks.push(e.data)\n",
              "  recorder.start()\n",
              "  await sleep(time)\n",
              "  recorder.onstop = async ()=>{\n",
              "    blob = new Blob(chunks)\n",
              "    text = await b2text(blob)\n",
              "    resolve(text)\n",
              "  }\n",
              "  recorder.stop()\n",
              "})\n"
            ],
            "text/plain": [
              "<IPython.core.display.Javascript object>"
            ]
          },
          "metadata": {
            "tags": []
          }
        },
        {
          "output_type": "stream",
          "text": [
            "[30]\n"
          ],
          "name": "stdout"
        },
        {
          "output_type": "execute_result",
          "data": {
            "text/plain": [
              "30    up\n",
              "Name: Total words, dtype: object"
            ]
          },
          "metadata": {
            "tags": []
          },
          "execution_count": 71
        }
      ]
    },
    {
      "cell_type": "code",
      "metadata": {
        "id": "GdtxZ725yK0s",
        "colab_type": "code",
        "colab": {}
      },
      "source": [
        "# build model\n",
        "model = tf.keras.Sequential()\n",
        "model.add(layers.LSTM(128,return_sequences=True,\n",
        "                      input_shape=(config.buckets,config.max_len)))\n",
        "model.add(layers.LSTM(128,return_sequences=True))\n",
        "model.add(layers.TimeDistributed(layers.Dense(64,activation='relu')))\n",
        "model.add(layers.TimeDistributed(layers.Dense(32,activation='relu')))\n",
        "model.add(layers.TimeDistributed(layers.Dense(16,activation='relu')))\n",
        "#model.add(layers.TimeDistributed(layers.Dense(8,activation='relu')))\n",
        "model.add(layers.Flatten())\n",
        "model.add(layers.Dropout(0.5))\n",
        "model.add(layers.Dense(num_classes, activation='softmax'))\n",
        "\n",
        "model.compile(loss=\"categorical_crossentropy\",\n",
        "                  optimizer=\"adam\",\n",
        "                  metrics=['accuracy'])\n",
        "\n",
        "wandb.init()\n",
        "model.fit(X_train, y_train_hot, epochs=config.epochs , batch_size=config.batch_size\n",
        "          , validation_data=(X_test, y_test_hot),callbacks=[WandbCallback(data_type=\"image\", labels=labels)])"
      ],
      "execution_count": 0,
      "outputs": []
    }
  ]
}